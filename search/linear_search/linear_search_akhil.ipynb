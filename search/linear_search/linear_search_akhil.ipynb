{
 "cells": [
  {
   "cell_type": "code",
   "execution_count": null,
   "id": "807386e4",
   "metadata": {},
   "outputs": [],
   "source": []
  },
  {
   "cell_type": "code",
   "execution_count": 20,
   "id": "62007085",
   "metadata": {},
   "outputs": [],
   "source": [
    "\n",
    "\n",
    "def linear_search_akhil(data , listt , msg=False):\n",
    "    \n",
    "    flag = False\n",
    "    \n",
    "    for x in range(len(listt)):\n",
    "        \n",
    "         if listt[x] == data:\n",
    "                if msg == True:\n",
    "                    return \"Data is found at index - {}\".format(x)\n",
    "                else:\n",
    "                    return x\n",
    "    else:\n",
    "        if msg == True:\n",
    "            return \"Data not found\"\n",
    "        else:\n",
    "            return None\n",
    "            \n",
    "            \n",
    "\n",
    "        \n",
    "           \n",
    "    "
   ]
  },
  {
   "cell_type": "code",
   "execution_count": 21,
   "id": "6ce8b7e8",
   "metadata": {},
   "outputs": [
    {
     "name": "stdout",
     "output_type": "stream",
     "text": [
      "Enter no, to search:30\n"
     ]
    },
    {
     "data": {
      "text/plain": [
       "2"
      ]
     },
     "execution_count": 21,
     "metadata": {},
     "output_type": "execute_result"
    }
   ],
   "source": [
    "sample_list = [10,20,30,4,5,6]\n",
    "data = int(input(\"Enter no, to search:\"))\n",
    "linear_search_akhil(data , sample_list , False)"
   ]
  },
  {
   "cell_type": "code",
   "execution_count": null,
   "id": "f40cee03",
   "metadata": {},
   "outputs": [],
   "source": []
  }
 ],
 "metadata": {
  "kernelspec": {
   "display_name": "Python 3",
   "language": "python",
   "name": "python3"
  },
  "language_info": {
   "codemirror_mode": {
    "name": "ipython",
    "version": 3
   },
   "file_extension": ".py",
   "mimetype": "text/x-python",
   "name": "python",
   "nbconvert_exporter": "python",
   "pygments_lexer": "ipython3",
   "version": "3.8.8"
  }
 },
 "nbformat": 4,
 "nbformat_minor": 5
}
