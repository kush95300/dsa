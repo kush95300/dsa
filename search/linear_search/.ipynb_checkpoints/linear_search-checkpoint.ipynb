{
 "cells": [
  {
   "cell_type": "code",
   "execution_count": 8,
   "metadata": {},
   "outputs": [],
   "source": [
    "def linear_search_info(listed_data, item):\n",
    "    \"\"\"\n",
    "    Function: \"tells in linear search information\"\n",
    "    \n",
    "    Format: \n",
    "    linear_search_info(list,item)\n",
    "    \n",
    "    Input: \n",
    "    --> list : List, tuple or array of items where item will search\n",
    "    ==> item : Item to search in list\n",
    "    \n",
    "    Output: \"print a message telling information related to search\"\n",
    "    \n",
    "    \"\"\"\n",
    "    step = 0\n",
    "    for i in range(len(listed_data)):\n",
    "        step = step + 1\n",
    "        if listed_data[i] == item:\n",
    "            print(\"{} is present at index {}. Found in {} steps\".format(item,i, step))\n",
    "            return\n",
    "    else:\n",
    "        print(\"{} not present\".format(item))\n",
    "\n",
    "def is_present(listed_data, item, msg=True):    # checked using linear search\n",
    "    \"\"\"\n",
    "    Function: \"tells in Item present or not in list using linear search\"\n",
    "    \n",
    "    Format: \n",
    "    linear_search_info(list,item)\n",
    "    linear_search_info(list,item, msg)\n",
    "    \n",
    "    Input: \n",
    "    ==> list (tuple, list, array) : List, tuple or array of items where item will search\n",
    "    ==> item                      : Item to search in list\n",
    "    ==> msg (bool)                : Print found message or not. Default True\n",
    "    \n",
    "    Output: \"print a message telling whether item is in list or not. Returns bool value\"\n",
    "    \n",
    "    \"\"\"\n",
    "    for i in listed_data:\n",
    "        if i == item:\n",
    "            if msg:\n",
    "                print(\"{} is present\".format(item))\n",
    "            return True\n",
    "    else:\n",
    "        if msg:\n",
    "            print(\"{} not present\".format(item))\n",
    "        return False\n",
    "\n",
    "def linear_search_index(listed_data, item):\n",
    "    \"\"\"\n",
    "    Function: \"tells in index of item using linear search\"\n",
    "    \n",
    "    Format: \n",
    "    linear_search_index(list,item)\n",
    "    \n",
    "    Input: \n",
    "    --> list : List, tuple or array of items where item will search\n",
    "    ==> item : Item to search in list\n",
    "    \n",
    "    Output: \"returns index value of item\"\n",
    "    \n",
    "    \"\"\"\n",
    "    for i in range(len(listed_data)):\n",
    "        if listed_data[i] == item:\n",
    "            return i\n",
    "    else:\n",
    "        return None\n",
    "    "
   ]
  },
  {
   "cell_type": "code",
   "execution_count": 9,
   "metadata": {},
   "outputs": [],
   "source": [
    "data = [2,3,6,8,22,56,78,28]"
   ]
  },
  {
   "cell_type": "code",
   "execution_count": 10,
   "metadata": {},
   "outputs": [],
   "source": [
    "s = 22   # is present  // index??\n"
   ]
  },
  {
   "cell_type": "code",
   "execution_count": 12,
   "metadata": {},
   "outputs": [
    {
     "data": {
      "text/plain": [
       "True"
      ]
     },
     "execution_count": 12,
     "metadata": {},
     "output_type": "execute_result"
    }
   ],
   "source": [
    "is_present(data,s,msg=False)"
   ]
  },
  {
   "cell_type": "code",
   "execution_count": null,
   "metadata": {},
   "outputs": [],
   "source": [
    "# day 2 work complete"
   ]
  }
 ],
 "metadata": {
  "kernelspec": {
   "display_name": "Python 3",
   "language": "python",
   "name": "python3"
  },
  "language_info": {
   "codemirror_mode": {
    "name": "ipython",
    "version": 3
   },
   "file_extension": ".py",
   "mimetype": "text/x-python",
   "name": "python",
   "nbconvert_exporter": "python",
   "pygments_lexer": "ipython3",
   "version": "3.6.5"
  }
 },
 "nbformat": 4,
 "nbformat_minor": 2
}
